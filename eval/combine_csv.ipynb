{
 "cells": [
  {
   "cell_type": "code",
   "execution_count": 1,
   "metadata": {},
   "outputs": [],
   "source": [
    "import os\n",
    "import pandas as pd\n",
    "\n",
    "def merge_csv_files(directory_path, output_file):\n",
    "    \"\"\"\n",
    "    Merge CSV files from a directory into a single CSV file.\n",
    "\n",
    "    Parameters:\n",
    "    - directory_path (str): Path to the directory containing CSV files.\n",
    "    - output_file (str): Path to the output CSV file to be generated.\n",
    "    \"\"\"\n",
    "    # List to hold DataFrames from each CSV file\n",
    "    dfs = []\n",
    "\n",
    "    # Loop through all files in the directory\n",
    "    for filename in os.listdir(directory_path):\n",
    "        if filename.endswith(\".csv\"):\n",
    "            file_path = os.path.join(directory_path, filename)\n",
    "            # Read CSV file into a DataFrame and append to the list\n",
    "            df = pd.read_csv(file_path)\n",
    "            dfs.append(df)\n",
    "\n",
    "    # Check if there are DataFrames to merge\n",
    "    if dfs:\n",
    "        # Merge all DataFrames into a single DataFrame\n",
    "        merged_df = pd.concat(dfs, ignore_index=True)\n",
    "\n",
    "        # Save the merged DataFrame to a new CSV file\n",
    "        merged_df.to_csv(output_file, index=False)\n",
    "        print(f\"Merged CSV saved to: {output_file}\")\n",
    "    else:\n",
    "        print(\"No CSV files found in the directory.\")\n",
    "\n",
    "\n"
   ]
  },
  {
   "cell_type": "code",
   "execution_count": 3,
   "metadata": {},
   "outputs": [
    {
     "name": "stdout",
     "output_type": "stream",
     "text": [
      "Merged CSV saved to: D:/Local-RAG-Assistant-Chatbot/eval/metrics/hotpot/base/metrics_base_hotpot.csv\n"
     ]
    }
   ],
   "source": [
    "input_directory = 'D:/Local-RAG-Assistant-Chatbot/eval/metrics/hotpot/base'\n",
    "output_csv = f'D:/Local-RAG-Assistant-Chatbot/eval/metrics/hotpot/base/metrics_base_hotpot.csv'\n",
    "\n",
    "merge_csv_files(input_directory, output_csv)"
   ]
  },
  {
   "cell_type": "code",
   "execution_count": 10,
   "metadata": {},
   "outputs": [
    {
     "name": "stdout",
     "output_type": "stream",
     "text": [
      "Merged CSV saved to: D:/Local-RAG-Assistant-Chatbot/eval/metrics/hotpot/eval/metrics_eval_hotpot.csv\n"
     ]
    }
   ],
   "source": [
    "input_directory = 'D:/Local-RAG-Assistant-Chatbot/eval/metrics/hotpot/eval'\n",
    "output_csv = f'D:/Local-RAG-Assistant-Chatbot/eval/metrics/hotpot/eval/metrics_eval_hotpot.csv'\n",
    "\n",
    "merge_csv_files(input_directory, output_csv)"
   ]
  },
  {
   "cell_type": "code",
   "execution_count": 11,
   "metadata": {},
   "outputs": [
    {
     "name": "stdout",
     "output_type": "stream",
     "text": [
      "Merged CSV saved to: D:/Local-RAG-Assistant-Chatbot/eval/metrics/squad/base/metrics_base_squad.csv\n"
     ]
    }
   ],
   "source": [
    "input_directory = 'D:/Local-RAG-Assistant-Chatbot/eval/metrics/squad/base'\n",
    "output_csv = f'D:/Local-RAG-Assistant-Chatbot/eval/metrics/squad/base/metrics_base_squad.csv'\n",
    "\n",
    "merge_csv_files(input_directory, output_csv)"
   ]
  },
  {
   "cell_type": "code",
   "execution_count": 12,
   "metadata": {},
   "outputs": [
    {
     "name": "stdout",
     "output_type": "stream",
     "text": [
      "Merged CSV saved to: D:/Local-RAG-Assistant-Chatbot/eval/metrics/squad/eval/metrics_eval_squad.csv\n"
     ]
    }
   ],
   "source": [
    "input_directory = 'D:/Local-RAG-Assistant-Chatbot/eval/metrics/squad/eval'\n",
    "output_csv = f'D:/Local-RAG-Assistant-Chatbot/eval/metrics/squad/eval/metrics_eval_squad.csv'\n",
    "\n",
    "merge_csv_files(input_directory, output_csv)"
   ]
  }
 ],
 "metadata": {
  "kernelspec": {
   "display_name": "local-rag",
   "language": "python",
   "name": "python3"
  },
  "language_info": {
   "codemirror_mode": {
    "name": "ipython",
    "version": 3
   },
   "file_extension": ".py",
   "mimetype": "text/x-python",
   "name": "python",
   "nbconvert_exporter": "python",
   "pygments_lexer": "ipython3",
   "version": "3.10.14"
  }
 },
 "nbformat": 4,
 "nbformat_minor": 2
}
