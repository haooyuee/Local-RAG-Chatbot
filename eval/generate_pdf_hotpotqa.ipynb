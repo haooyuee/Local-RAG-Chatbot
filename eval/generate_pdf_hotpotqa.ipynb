{
 "cells": [
  {
   "cell_type": "code",
   "execution_count": 1,
   "metadata": {},
   "outputs": [],
   "source": [
    "from langchain_community.document_loaders import PDFMinerLoader\n",
    "import pandas as pd\n",
    "import os\n",
    "from reportlab.lib.pagesizes import letter\n",
    "from reportlab.pdfgen import canvas\n",
    "from reportlab.lib.pagesizes import letter\n",
    "from reportlab.lib.styles import getSampleStyleSheet\n",
    "from reportlab.platypus import SimpleDocTemplate, Paragraph, PageBreak\n",
    "import re"
   ]
  },
  {
   "cell_type": "code",
   "execution_count": 2,
   "metadata": {},
   "outputs": [],
   "source": [
    "import json\n",
    "with open('task170_hotpotqa_answer_generation.json', 'r', encoding='utf-8') as file:\n",
    "    data = json.load(file)"
   ]
  },
  {
   "cell_type": "code",
   "execution_count": 3,
   "metadata": {},
   "outputs": [
    {
     "data": {
      "text/plain": [
       "6500"
      ]
     },
     "execution_count": 3,
     "metadata": {},
     "output_type": "execute_result"
    }
   ],
   "source": [
    "data = data[\"Instances\"]\n",
    "len(data)"
   ]
  },
  {
   "cell_type": "code",
   "execution_count": 4,
   "metadata": {},
   "outputs": [
    {
     "data": {
      "text/plain": [
       "'Context_1 : Central Park in the Dark is a music composition by Charles Ives for chamber orchestra. It was composed in 1906 and has been paired with \"The Unanswered Question\" as part of “Two Contemplations” and with \"Hallowe’en\" and \"The Pond\" in “Three Outdoor Scenes.” Context_2 : United States v. Barker, 15 U.S. 395 (1817), was a case decided by the United States Supreme Court upholding the common law tradition that private citizens may not demand costs from the federal government. The case involved a motion for costs filed against the United States Government and resolved the previously unanswered question of whether courts could award costs against the United States federal government. The Court\\'s opinion read, in its entirety, \"[t]he United States never pay costs.\" Jurists have remarked that Chief Justice John Marshall\\'s six-word opinion is one of the shortest Supreme Court cases ever written. Context_3 : Charles Edward Ives ( ; October 20, 1874May 19, 1954) was an American modernist composer. He is one of the first American composers of international renown, though his music was largely ignored during his life, and many of his works went unperformed for many years. Over time, he came to be regarded as an \"American original\". He combined the American popular and church-music traditions of his youth with European art music, and was among the first composers to engage in a systematic program of experimental music, with musical techniques including polytonality, polyrhythm, tone clusters, aleatory elements, and quarter tones, foreshadowing many musical innovations of the 20th century. Context_4 : The 1924 British Mount Everest expedition was—after the 1922 British Mount Everest expedition—the second expedition with the goal of achieving the first ascent of Mount Everest. After two summit attempts in which Edward Norton set a world altitude record of 28,126 feet (8572m), the mountaineers George Mallory and Andrew \"Sandy\" Irvine disappeared on the third attempt. Their disappearance has given rise to the long-standing unanswered question of whether or not the pair climbed to the summit. Mallory\\'s body was found in 1999 at 26,760 feet (8155 m), but the resulting clues did not provide conclusive evidence as to whether the summit was reached. Context_5 : Ivesiana is a ballet made by New York City Ballet co-founder and ballet master George Balanchine to Charles Ives\\' \"Central Park in the Dark\" (1906), \"The Unanswered Question\" (1906), \"In the Inn\" (1904-06?), and \"In the Night\" (1906) shortly after the composer\\'s death. The premiere took place September 14, 1954, at the City Center of Music and Drama. Other works to the music of Ives in the City Ballet repertory include Peter Martins\\' \"Calcium Light Night\", Jerome Robbins\\' \"Ives, Songs\" and Eliot Feld\\'s \"The Unanswered Question\". Context_6 : The Unanswered Question is a musical work by American composer Charles Ives. Originally paired with \"Central Park in the Dark\" as \"Two Contemplations\" in 1908, \"The Unanswered Question\" was revived by Ives in 1930–1935. As with many of Ives\\' works, it was largely unknown until much later in his life, and was not performed until 1946. Context_7 : In G Major is a ballet made for New York City Ballet\\'s Ravel Festival by ballet master Jerome Robbins to the composer\\'s \"Piano Concerto in G Major\" (1928–31). The premiere took place May 15, 1975 at the New York State Theater, Lincoln Center, with lighting by Mark Stanley. The Paris Opera Ballet commissioned scenery and costumes by Erté when it staged Robbins\\' ballet under the name \"En Sol\", decor which has subsequently been borrowed by City Ballet. Ravel composed the concerto after travelling in the United States and is reported to have described the work as \"... written in very much the same spirit as those of Mozart and Saint-Saëns,\" and said that \"it uses certain effects borrowed from jazz, but only in moderation.\" Context_8 : The Unanswered Question is the title of a lecture series given by Leonard Bernstein in the fall of 1973. This series of six lectures was a component of Bernstein’s duties as the Charles Eliot Norton Professor of Poetry for the 1972-73 academic year at Harvard University, and is therefore often referred to as the Norton Lectures. The lectures were both recorded on video and printed as a book, titled \"The Unanswered Question: Six Talks at Harvard.\" Context_9 : The Unanswered Question: Some Intimations of the American Composer Charles Ives is a ballet made by Eliot Feld to Charles Ives\\' \"The Unanswered Question\", \"Calcium Light Night\", \"Fugue in Four Keys, Mists\", \"From the Housatonic at Stockbridge\", \"Sonata No. 2 for Piano and Violin (In the Barn)\", \"Remembrance\" and \"An Old Song Deranged\". The premiere took place April 30, 1988, at the New York State Theater, Lincoln Center, as part of New York City Ballet\\'s American Music Festival with lighting by the Feld Ballet\\'s Allen Lee Hughes and Willa Kim\\'s costumes. Other works to the music of Ives in the City Ballet repertory include Peter Martins\\' \"Calcium Light Night\", Jerome Robbins\\' \"Ives, Songs\" and George Balanchine\\'s \"Ivesiana\". Context_10 : Music for a Time of War is a 2011 concert program and subsequent album by the Oregon Symphony under the artistic direction of Carlos Kalmar. The program consists of four compositions inspired by war: Charles Ives\\' \"The Unanswered Question\" (1906), John Adams\\' \"The Wound-Dresser\" (1989), Benjamin Britten\\'s \"Sinfonia da Requiem\" (1940) and Ralph Vaughan Williams\\' Symphony No. 4 (1935). The program was performed on May 7, 2011, at the Arlene Schnitzer Concert Hall in Portland, Oregon, and again the following day. Both concerts were recorded for album release. On May 12, the Oregon Symphony repeated the program at the inaugural Spring for Music Festival, at Carnegie Hall. The performance was broadcast live by KQAC and WQXR-FM, the classical radio stations serving Portland and the New York City metropolitan area, respectively. The concerts marked the Oregon Symphony\\'s first performances of \"The Wound-Dresser\" as well as guest baritone Sanford Sylvan\\'s debut with the company. fact_1 : The Unanswered Question: Some Intimations of the American Composer Charles Ives is a ballet made by Eliot Feld to Charles Ives\\' \"The Unanswered Question\", \"Calcium Light Night\", \"Fugue in Four Keys, Mists\", \"From the Housatonic at Stockbridge\", \"Sonata No. 2 for Piano and Violin (In the Barn)\", \"Remembrance\" and \"An Old Song Deranged\". fact_2 :  He is one of the first American composers of international renown, though his music was largely ignored during his life, and many of his works went unperformed for many years. fact_3 :  Over time, he came to be regarded as an \"American original\". '"
      ]
     },
     "execution_count": 4,
     "metadata": {},
     "output_type": "execute_result"
    }
   ],
   "source": [
    "for i, example in enumerate(data):\n",
    "    # Extract the input text and output text from the example\n",
    "    input_text = example['input']\n",
    "    output_text = example['output']\n",
    "    \n",
    "    # Split the input text into context and question parts based on \"Question:\"\n",
    "    context_part, question_part = input_text.rsplit(\"Question:\",1)\n",
    "    example['context'] = context_part\n",
    "    example['question'] = question_part\n",
    "data[1504]['context']"
   ]
  },
  {
   "cell_type": "code",
   "execution_count": 5,
   "metadata": {},
   "outputs": [
    {
     "data": {
      "text/plain": [
       "' The Unanswered Question is a ballet made from work by a man who was regarded as what?'"
      ]
     },
     "execution_count": 5,
     "metadata": {},
     "output_type": "execute_result"
    }
   ],
   "source": [
    "data[1504]['question']"
   ]
  },
  {
   "cell_type": "code",
   "execution_count": 6,
   "metadata": {},
   "outputs": [
    {
     "data": {
      "text/plain": [
       "6500"
      ]
     },
     "execution_count": 6,
     "metadata": {},
     "output_type": "execute_result"
    }
   ],
   "source": [
    "len(data)"
   ]
  },
  {
   "cell_type": "code",
   "execution_count": 7,
   "metadata": {},
   "outputs": [],
   "source": [
    "def clean_context_text(context_text):\n",
    "    # Remove 'Context_i' and 'fact_i' patterns from the context text\n",
    "    cleaned_text = re.sub(r'Context_\\d+ : ', '', context_text)\n",
    "    cleaned_text = re.sub(r'fact_\\d+ : ', '', cleaned_text)\n",
    "    return cleaned_text.strip()\n",
    "for i, example in enumerate(data):\n",
    "    example['context'] = clean_context_text(example['context'])"
   ]
  },
  {
   "cell_type": "code",
   "execution_count": 8,
   "metadata": {},
   "outputs": [],
   "source": [
    "import random\n",
    "def clean_paragraph_text(text):\n",
    "    # Remove any HTML-like tags and invalid characters from the text\n",
    "    cleaned_text = re.sub(r'<[^>]+>', '', text)  # Remove HTML tags\n",
    "    cleaned_text = re.sub(r'[\\x00-\\x08\\x0b\\x0c\\x0e-\\x1f\\x7f-\\xff]', '', cleaned_text)  # Remove invalid characters\n",
    "    return cleaned_text.strip()\n",
    "\n",
    "\n",
    "def create_single_context_pdf(filename, context_text, data, i):\n",
    "    doc = SimpleDocTemplate(filename, pagesize=letter)\n",
    "    styles = getSampleStyleSheet()\n",
    "\n",
    "    # Define a custom Paragraph style for the main content\n",
    "    body_style = styles[\"BodyText\"]\n",
    "    body_style.alignment = 0  # Left alignment\n",
    "    body_style.wordWrap = 'LTR'  # Enable word wrapping\n",
    "\n",
    "    # Create a list to hold the flowable elements (content) of the PDF\n",
    "    story = []\n",
    "\n",
    "    # Create a Paragraph with the context text and apply the body style\n",
    "    context_text = clean_paragraph_text(context_text)\n",
    "    p = Paragraph(context_text, style=body_style)\n",
    "\n",
    "    # Add the Paragraph to the story\n",
    "    story.append(p)\n",
    "\n",
    "    # Build the PDF document with the story content and handle overflow\n",
    "    doc.build(story, onFirstPage=lambda canvas, doc: None, onLaterPages=lambda canvas, doc: None)\n",
    "\n",
    "\n"
   ]
  },
  {
   "cell_type": "code",
   "execution_count": 9,
   "metadata": {},
   "outputs": [],
   "source": [
    "for i, example in enumerate(data):\n",
    "    if i < 50:\n",
    "        # Create a PDF file for the context\n",
    "        filename = f\"pdfs/example_{i}_context.pdf\"\n",
    "\n",
    "        # Generate the PDF\n",
    "        c = canvas.Canvas(filename, pagesize=letter)\n",
    "        text = example['context']  # Single line context text\n",
    "\n",
    "        create_single_context_pdf(filename, text, data, i)"
   ]
  },
  {
   "cell_type": "code",
   "execution_count": null,
   "metadata": {},
   "outputs": [],
   "source": [
    "import PyPDF2\n",
    "import os\n",
    "\n",
    "def merge_pdfs(input_dir, output_dir, batch_size=10):\n",
    "    # Filter PDF files in the input directory and sort them based on the index 'i' in the filename\n",
    "    pdf_files = [f for f in os.listdir(input_dir) if f.endswith('.pdf')]\n",
    "    pdf_files.sort(key=lambda x: int(x.split('_')[1]))\n",
    "\n",
    "    pdf_writer = PyPDF2.PdfWriter()\n",
    "    current_batch = []\n",
    "    batch_count = 0\n",
    "\n",
    "    # Iterate over sorted PDF files\n",
    "    for pdf_file in pdf_files:\n",
    "        pdf_path = os.path.join(input_dir, pdf_file)\n",
    "        pdf_reader = PyPDF2.PdfReader(pdf_path)\n",
    "\n",
    "        # Add each page of the current PDF file to the writer\n",
    "        for page_num in range(len(pdf_reader.pages)):\n",
    "            page = pdf_reader.pages[page_num]\n",
    "            pdf_writer.add_page(page)\n",
    "\n",
    "        current_batch.append(pdf_file)\n",
    "\n",
    "        # If the current batch size reaches the specified batch_size or it's the last PDF\n",
    "        if len(current_batch) == batch_size or pdf_file == pdf_files[-1]:\n",
    "            batch_count += 1\n",
    "            output_filename = f'context_{batch_count*10-10}_{batch_count*10-1}.pdf'\n",
    "            output_path = os.path.join(output_dir, output_filename)\n",
    "\n",
    "            # Write the current batch to a merged PDF file\n",
    "            with open(output_path, 'wb') as out_pdf:\n",
    "                pdf_writer.write(out_pdf)\n",
    "\n",
    "            # Reset the writer and current_batch for the next batch\n",
    "            pdf_writer = PyPDF2.PdfWriter()\n",
    "            current_batch = []\n",
    "\n",
    "    print(f'Merged PDFs saved to: {output_dir}')\n",
    "# Example usage:\n",
    "input_directory = 'D:/Local-RAG-Assistant-Chatbot/eval/pdfs'\n",
    "output_directory = 'D:/Local-RAG-Assistant-Chatbot/eval/merged_pdfs'\n",
    "\n",
    "if not os.path.exists(output_directory):\n",
    "    os.makedirs(output_directory)\n",
    "\n",
    "merge_pdfs(input_directory, output_directory)"
   ]
  }
 ],
 "metadata": {
  "kernelspec": {
   "display_name": "env_rag",
   "language": "python",
   "name": "python3"
  },
  "language_info": {
   "codemirror_mode": {
    "name": "ipython",
    "version": 3
   },
   "file_extension": ".py",
   "mimetype": "text/x-python",
   "name": "python",
   "nbconvert_exporter": "python",
   "pygments_lexer": "ipython3",
   "version": "3.10.14"
  }
 },
 "nbformat": 4,
 "nbformat_minor": 2
}
