{
 "cells": [
  {
   "cell_type": "code",
   "execution_count": 1,
   "metadata": {},
   "outputs": [
    {
     "name": "stderr",
     "output_type": "stream",
     "text": [
      "d:\\Anaconda\\envs\\local-rag\\lib\\site-packages\\tqdm\\auto.py:21: TqdmWarning: IProgress not found. Please update jupyter and ipywidgets. See https://ipywidgets.readthedocs.io/en/stable/user_install.html\n",
      "  from .autonotebook import tqdm as notebook_tqdm\n"
     ]
    }
   ],
   "source": [
    "import json\n",
    "from datasets import Dataset\n",
    "from ragas import evaluate\n",
    "from ragas.metrics import (\n",
    "    answer_relevancy,\n",
    "    faithfulness,\n",
    "    context_recall,\n",
    "    context_precision,\n",
    "    answer_correctness, \n",
    "    answer_similarity\n",
    ")\n",
    "import evaluate as h_evaluate\n",
    "import pandas as pd\n",
    "import sys\n",
    "sys.path.append('d:/Local-RAG-Assistant-Chatbot/')    \n",
    "from src.apikeys import open_API\n",
    "import os\n",
    "os.environ[\"OPENAI_API_KEY\"] = open_API"
   ]
  },
  {
   "cell_type": "code",
   "execution_count": 3,
   "metadata": {},
   "outputs": [],
   "source": [
    "import time\n",
    "def get_metrics(model_type:str, data_type:str):\n",
    "    rouge = h_evaluate.load('rouge')\n",
    "    if data_type == \"hotpot\":\n",
    "        for i in range(0,41,10):\n",
    "            with open(f\"outputs_{model_type}_{data_type}_{i}_{i+9}.json\", 'r') as file:\n",
    "                data = json.load(file)\n",
    "            ds = Dataset.from_dict(data)\n",
    "            predictions = ds[\"answer\"]\n",
    "            references = ds[\"ground_truth\"]\n",
    "            rouge_results = rouge.compute(predictions=predictions, references=references)\n",
    "            result = evaluate(\n",
    "                ds,\n",
    "                metrics=[\n",
    "                    context_precision,\n",
    "                    faithfulness,\n",
    "                    answer_relevancy,\n",
    "                    context_recall,\n",
    "                    answer_correctness, \n",
    "                    answer_similarity\n",
    "                ],\n",
    "            )\n",
    "            time.sleep(3) # To avoid rate limit\n",
    "            df_rouge = pd.DataFrame([rouge_results])\n",
    "            df_ragas = result.to_pandas()\n",
    "            df = pd.concat([df_ragas, df_rouge], axis=1)\n",
    "            save_path = f\"./metrics/{data_type}/{model_type}/\"\n",
    "            if not os.path.exists(save_path):\n",
    "                os.makedirs(save_path)\n",
    "            df.to_csv(save_path + f\"metrics_{model_type}_{data_type}_{i}_{i+9}.csv\")\n",
    "    else:\n",
    "        for i in range(1,5):\n",
    "            with open(f\"outputs_{model_type}_{data_type}_{i}.json\", 'r') as file:\n",
    "                data = json.load(file)\n",
    "            ds = Dataset.from_dict(data)\n",
    "            predictions = ds[\"answer\"]\n",
    "            references = ds[\"ground_truth\"]\n",
    "            rouge_results = rouge.compute(predictions=predictions, references=references)\n",
    "            result = evaluate(\n",
    "                ds,\n",
    "                metrics=[\n",
    "                    context_precision,\n",
    "                    faithfulness,\n",
    "                    answer_relevancy,\n",
    "                    context_recall,\n",
    "                    answer_correctness, \n",
    "                    answer_similarity\n",
    "                ],\n",
    "            )\n",
    "            time.sleep(3) # To avoid rate limit\n",
    "            df_rouge = pd.DataFrame([rouge_results])\n",
    "            df_ragas = result.to_pandas()\n",
    "            df = pd.concat([df_ragas, df_rouge], axis=1)\n",
    "            save_path = f\"./metrics/{data_type}/{model_type}/\"\n",
    "            if not os.path.exists(save_path):\n",
    "                os.makedirs(save_path)\n",
    "            df.to_csv(save_path + f\"metrics_{model_type}_{data_type}_{i}.csv\")\n",
    "\n"
   ]
  },
  {
   "cell_type": "code",
   "execution_count": 4,
   "metadata": {},
   "outputs": [
    {
     "name": "stderr",
     "output_type": "stream",
     "text": [
      "Evaluating: 100%|██████████| 72/72 [00:17<00:00,  4.16it/s]\n",
      "Evaluating: 100%|██████████| 72/72 [01:52<00:00,  1.56s/it]\n",
      "Evaluating: 100%|██████████| 72/72 [00:18<00:00,  3.87it/s]\n",
      "Evaluating: 100%|██████████| 72/72 [01:19<00:00,  1.10s/it]\n"
     ]
    }
   ],
   "source": [
    "get_metrics(\"eval\",\"squad\")"
   ]
  },
  {
   "cell_type": "code",
   "execution_count": 5,
   "metadata": {},
   "outputs": [
    {
     "name": "stderr",
     "output_type": "stream",
     "text": [
      "Evaluating: 100%|██████████| 72/72 [01:04<00:00,  1.11it/s]\n",
      "Evaluating: 100%|██████████| 72/72 [01:21<00:00,  1.13s/it]\n",
      "Evaluating: 100%|██████████| 72/72 [01:12<00:00,  1.00s/it]\n",
      "Evaluating: 100%|██████████| 72/72 [00:36<00:00,  1.98it/s]\n"
     ]
    }
   ],
   "source": [
    "get_metrics(\"base\",\"squad\")"
   ]
  },
  {
   "cell_type": "code",
   "execution_count": 6,
   "metadata": {},
   "outputs": [
    {
     "name": "stderr",
     "output_type": "stream",
     "text": [
      "Evaluating: 100%|██████████| 60/60 [01:17<00:00,  1.30s/it]\n",
      "Evaluating: 100%|██████████| 60/60 [00:31<00:00,  1.88it/s]\n",
      "Evaluating: 100%|██████████| 60/60 [01:12<00:00,  1.21s/it]\n",
      "Evaluating: 100%|██████████| 60/60 [00:38<00:00,  1.56it/s]\n",
      "Evaluating: 100%|██████████| 60/60 [01:42<00:00,  1.71s/it]\n"
     ]
    }
   ],
   "source": [
    "get_metrics(\"eval\",\"hotpot\")"
   ]
  },
  {
   "cell_type": "code",
   "execution_count": 7,
   "metadata": {},
   "outputs": [
    {
     "name": "stderr",
     "output_type": "stream",
     "text": [
      "Evaluating: 100%|██████████| 60/60 [00:10<00:00,  5.53it/s]\n",
      "Evaluating: 100%|██████████| 60/60 [01:09<00:00,  1.16s/it]\n",
      "Evaluating: 100%|██████████| 60/60 [00:42<00:00,  1.43it/s]\n",
      "Evaluating: 100%|██████████| 60/60 [00:56<00:00,  1.06it/s]\n",
      "Evaluating: 100%|██████████| 60/60 [01:01<00:00,  1.02s/it]\n"
     ]
    }
   ],
   "source": [
    "get_metrics(\"base\",\"hotpot\")"
   ]
  }
 ],
 "metadata": {
  "kernelspec": {
   "display_name": "local-rag",
   "language": "python",
   "name": "python3"
  },
  "language_info": {
   "codemirror_mode": {
    "name": "ipython",
    "version": 3
   },
   "file_extension": ".py",
   "mimetype": "text/x-python",
   "name": "python",
   "nbconvert_exporter": "python",
   "pygments_lexer": "ipython3",
   "version": "3.10.14"
  }
 },
 "nbformat": 4,
 "nbformat_minor": 2
}
