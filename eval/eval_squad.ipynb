{
 "cells": [
  {
   "cell_type": "code",
   "execution_count": null,
   "metadata": {},
   "outputs": [],
   "source": [
    "from langchain_community.document_loaders import PDFMinerLoader\n",
    "import pandas as pd\n",
    "import os\n",
    "import re\n",
    "import sys\n",
    "sys.path.append('d:/Local-RAG-Assistant-Chatbot/') # change to your own path\n",
    "from datasets import load_dataset"
   ]
  },
  {
   "cell_type": "code",
   "execution_count": 2,
   "metadata": {},
   "outputs": [],
   "source": [
    "dataset = load_dataset('squad', split='validation')\n",
    "data_dict = {\n",
    "    'id': [row['id'] for row in dataset],\n",
    "    'title': [row['title'] for row in dataset],\n",
    "    'context': [row['context'] for row in dataset],\n",
    "    'question': [row['question'] for row in dataset],\n",
    "    'answers': [row['answers'] for row in dataset]\n",
    "}\n",
    "\n",
    "df = pd.DataFrame(data_dict)\n",
    "df = df[df['title'] == 'Computational_complexity_theory']"
   ]
  },
  {
   "cell_type": "code",
   "execution_count": 4,
   "metadata": {},
   "outputs": [],
   "source": [
    "df['first_answer'] = df['answers'].apply(lambda x: x['text'][1])"
   ]
  },
  {
   "cell_type": "code",
   "execution_count": 5,
   "metadata": {},
   "outputs": [],
   "source": [
    "df = df.drop_duplicates(subset='context', keep='first')"
   ]
  },
  {
   "cell_type": "code",
   "execution_count": 7,
   "metadata": {},
   "outputs": [
    {
     "data": {
      "text/plain": [
       "(48, 6)"
      ]
     },
     "execution_count": 7,
     "metadata": {},
     "output_type": "execute_result"
    }
   ],
   "source": [
    "df.shape"
   ]
  },
  {
   "cell_type": "code",
   "execution_count": 8,
   "metadata": {},
   "outputs": [],
   "source": [
    "from datasets import Dataset\n",
    "# Function to evaluate as Llama index does not support async evaluation for HFInference API\n",
    "def generate_responses(test_questions, pdf_file, test_answers):\n",
    "  outputs = [chat_bot.generate_response(q, pdf_file) for q in test_questions]\n",
    "\n",
    "  answers = []\n",
    "  contexts = []\n",
    "  for output in outputs:\n",
    "    answers.append(output['answer'])\n",
    "    contexts.append([doc.page_content for doc in output['source_documents']])\n",
    "  dataset_dict = {\n",
    "        \"question\": test_questions,\n",
    "        \"answer\": answers,\n",
    "        \"contexts\": contexts,\n",
    "  }\n",
    "  if test_answers is not None:\n",
    "    dataset_dict[\"ground_truth\"] = test_answers\n",
    "  #ds = Dataset.from_dict(dataset_dict)\n",
    "  return dataset_dict"
   ]
  },
  {
   "cell_type": "code",
   "execution_count": null,
   "metadata": {},
   "outputs": [],
   "source": [
    "import json\n",
    "from src import chatbot\n",
    "\n",
    "import time\n",
    "path =  \"D:/Local-RAG-Assistant-Chatbot/config.yaml\" # change to your own path\n",
    "pdf_path = \"D:/Local-RAG-Assistant-Chatbot/eval/merged_pdfs/squad_comput_theory.pdf\" # change to your own path\n",
    "chat_bot = chatbot.PDFChatBot(config_path=path)\n",
    "\n",
    "# begin\n",
    "\n",
    "questions = df.loc[:]['question'].values.tolist()\n",
    "test_answers = df.loc[:]['first_answer'].values.tolist()\n",
    "dataset_dict = generate_responses(questions, pdf_path, test_answers)\n",
    "output_path = \"./outputs/\"\n",
    "if not os.path.exists(output_path):\n",
    "    os.makedirs(output_path)\n",
    "output_file_path = output_path + f\"outputs_eval_squad.json\"\n",
    "with open(output_file_path, 'w') as json_file:\n",
    "    json.dump(dataset_dict, json_file, indent=4)\n"
   ]
  },
  {
   "cell_type": "code",
   "execution_count": null,
   "metadata": {},
   "outputs": [],
   "source": [
    "# Split the large SQuAD outputs into 4 chunks to avoid the openAI rate limit\n",
    "def split_json_data(input_data, chunk_size):\n",
    "    num_keys = 4  # Assuming 4 keys in the original JSON structure\n",
    "    data_chunks = []\n",
    "\n",
    "    for i in range(num_keys):\n",
    "        key_chunk = {}\n",
    "        for key, values in input_data.items():\n",
    "            # Split values for the current key into chunks of specified size\n",
    "            start_idx = i * chunk_size\n",
    "            end_idx = (i + 1) * chunk_size\n",
    "            key_chunk[key] = values[start_idx:end_idx]\n",
    "        data_chunks.append(key_chunk)\n",
    "    \n",
    "    return data_chunks\n",
    "\n",
    "# Load the input JSON file\n",
    "input_file_path = output_file_path  # Path to your input JSON file\n",
    "output_file_prefix = 'outputs_eval_squad_'  # Prefix for output file names\n",
    "chunk_size = 12  # Number of values per key in each chunk\n",
    "\n",
    "with open(input_file_path, 'r') as input_file:\n",
    "    input_data = json.load(input_file)\n",
    "    \n",
    "    # Split the input data into chunks\n",
    "    data_chunks = split_json_data(input_data, chunk_size=chunk_size)\n",
    "    \n",
    "    # Create and write output JSON files\n",
    "    for i, chunk in enumerate(data_chunks):\n",
    "        output_file_path = f'{output_file_prefix}{i + 1}.json'\n",
    "        \n",
    "        with open(output_file_path, 'w') as output_file:\n",
    "            json.dump(chunk, output_file, indent=4)\n",
    "\n",
    "        print(f'Successfully wrote {output_file_path}')\n",
    "\n",
    "print('Splitting into JSON files completed.')"
   ]
  }
 ],
 "metadata": {
  "kernelspec": {
   "display_name": "env_rag",
   "language": "python",
   "name": "python3"
  },
  "language_info": {
   "codemirror_mode": {
    "name": "ipython",
    "version": 3
   },
   "file_extension": ".py",
   "mimetype": "text/x-python",
   "name": "python",
   "nbconvert_exporter": "python",
   "pygments_lexer": "ipython3",
   "version": "3.10.14"
  }
 },
 "nbformat": 4,
 "nbformat_minor": 2
}
