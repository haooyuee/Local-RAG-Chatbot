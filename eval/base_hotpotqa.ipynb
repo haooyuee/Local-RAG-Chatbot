{
 "cells": [
  {
   "cell_type": "code",
   "execution_count": null,
   "metadata": {},
   "outputs": [],
   "source": [
    "import pandas as pd\n",
    "from datasets import load_dataset\n",
    "import os"
   ]
  },
  {
   "cell_type": "code",
   "execution_count": 2,
   "metadata": {},
   "outputs": [],
   "source": [
    "import json\n",
    "with open('./data/task170_hotpotqa_answer_generation.json', 'r', encoding='utf-8') as file:\n",
    "    data = json.load(file)"
   ]
  },
  {
   "cell_type": "code",
   "execution_count": null,
   "metadata": {},
   "outputs": [],
   "source": [
    "data = data[\"Instances\"]"
   ]
  },
  {
   "cell_type": "code",
   "execution_count": null,
   "metadata": {},
   "outputs": [],
   "source": [
    "for i, example in enumerate(data):\n",
    "    # Extract the input text and output text from the example\n",
    "    input_text = example['input']\n",
    "    output_text = example['output']\n",
    "    \n",
    "    # Split the input text into context and question parts based on \"Question:\"\n",
    "    context_part, question_part = input_text.rsplit(\"Question:\",1)\n",
    "    example['context'] = context_part\n",
    "    example['question'] = question_part"
   ]
  },
  {
   "cell_type": "code",
   "execution_count": 5,
   "metadata": {},
   "outputs": [
    {
     "data": {
      "text/plain": [
       "(6499, 5)"
      ]
     },
     "execution_count": 5,
     "metadata": {},
     "output_type": "execute_result"
    }
   ],
   "source": [
    "df = pd.DataFrame(data)\n",
    "df = df.drop([4906]) #one bad sample causing error\n",
    "df.shape"
   ]
  },
  {
   "cell_type": "code",
   "execution_count": 9,
   "metadata": {},
   "outputs": [],
   "source": [
    "from datasets import Dataset\n",
    "# Function to evaluate as Llama index does not support async evaluation for HFInference API\n",
    "\n",
    "def generate_responses(test_questions, pdf_file, test_answers):\n",
    "  outputs = [chat_bot.generate_response(q, pdf_file) for q in test_questions]\n",
    "\n",
    "  answers = []\n",
    "  contexts = []\n",
    "  for output in outputs:\n",
    "    answers.append(output['answer'])\n",
    "    contexts.append([doc.page_content for doc in output['source_documents']])\n",
    "  dataset_dict = {\n",
    "        \"question\": test_questions,\n",
    "        \"answer\": answers,\n",
    "        \"contexts\": contexts,\n",
    "  }\n",
    "  if test_answers is not None:\n",
    "    dataset_dict[\"ground_truth\"] = test_answers\n",
    "  #ds = Dataset.from_dict(dataset_dict)\n",
    "  return dataset_dict"
   ]
  },
  {
   "cell_type": "code",
   "execution_count": null,
   "metadata": {},
   "outputs": [],
   "source": [
    "import json\n",
    "# from src import chatbot\n",
    "import sys\n",
    "sys.path.append('d:/Local-RAG-Assistant-Chatbot/') # change to your own path\n",
    "from src import chatbot_base\n",
    "\n",
    "import time\n",
    "path =  \"D:/Local-RAG-Assistant-Chatbot/config.yaml\" # change to your own path\n",
    "pdf_dir = \"./merged_pdfs/\"\n",
    "chat_bot = chatbot_base.PDFChatBot(config_path=path)\n",
    "\n",
    "# restart kernel and rerun with i = 10, i = 20, i = 30, i = 40, consecutive pdfs are not supported in a single run yet\n",
    "i = 0\n",
    "questions = df.loc[i:i+9]['question'].values.tolist()\n",
    "test_answers = df.loc[i:i+9]['output'].values.tolist()\n",
    "test_answers = [item for sublist in test_answers for item in sublist]\n",
    "dataset_dict = generate_responses(questions, f\"{pdf_dir}context_{i}_{i+9}.pdf\", test_answers)\n",
    "\n",
    "output_path = \"./outputs/\"\n",
    "if not os.path.exists(output_path):\n",
    "    os.makedirs(output_path)\n",
    "output_file_path = output_path + f\"outputs_base_hotpot_{i}_{i+9}.json\"\n",
    "with open(output_file_path, 'w') as json_file:\n",
    "    json.dump(dataset_dict, json_file, indent=4)\n",
    "\n"
   ]
  }
 ],
 "metadata": {
  "kernelspec": {
   "display_name": "env_rag",
   "language": "python",
   "name": "python3"
  },
  "language_info": {
   "codemirror_mode": {
    "name": "ipython",
    "version": 3
   },
   "file_extension": ".py",
   "mimetype": "text/x-python",
   "name": "python",
   "nbconvert_exporter": "python",
   "pygments_lexer": "ipython3",
   "version": "3.10.14"
  }
 },
 "nbformat": 4,
 "nbformat_minor": 2
}
